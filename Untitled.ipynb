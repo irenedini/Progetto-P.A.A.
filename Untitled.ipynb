{
 "cells": [
  {
   "cell_type": "code",
   "execution_count": 1,
   "metadata": {
    "collapsed": true
   },
   "outputs": [],
   "source": [
    "from mpmath import *\n",
    "from sympy import *\n",
    "from sympy.abc import x, t, m, n, k, y\n",
    "from sympy import Function, binomial, symbols\n",
    "from sympy.utilities.lambdify import lambdify, implemented_function\n",
    "from sympy.functions.combinatorial.numbers import stirling\n",
    "from functools import lru_cache\n",
    "\n",
    "init_printing()\n",
    "mp.dps = 15; mp.pretty = True"
   ]
  },
  {
   "cell_type": "markdown",
   "metadata": {},
   "source": [
    "# Serie con coefficienti binomiali centrali, numeri di Catalan e numeri armonici.\n",
    "In questo articolo verranno presentate e dimostrate (simbolicamente o numericamente) alcune serie che coinvolgono i coefficienti binomiali centrali, i numeri di Catalan ed i numeri armonici, presenti nell'altricolo <b /> Series with Central Binomial Coefficients, Catalan Numbers, and Harmonic Numbers</b> di Khristo N. Boyadzhiev. L'articolo completo può essere scaricato dal seguente link https://www.emis.de/journals/JIS/VOL15/Boyadzhiev/boyadzhiev6.html.\n",
    "\n",
    "Per prima cosa introduciamo le 3 serie sopra citate.\n",
    "\n",
    "### Coefficienti binomiali centrali:\n",
    "\n",
    "I coefficienti binomiali centrali sono dati dalla formula: <br />\n",
    "$$\\binom{2n}{n} = \\frac{(2n)!}{(n!)^2}$$\n",
    "<br /><br />\n"
   ]
  },
  {
   "cell_type": "code",
   "execution_count": 3,
   "metadata": {
    "collapsed": false
   },
   "outputs": [
    {
     "data": {
      "image/png": "[encoded data removed]",
      "text/latex": [
       "$$\\left( n \\mapsto {\\binom{2 n}{n}} \\right)$$"
      ],
      "text/plain": [
       "    ⎛2⋅n⎞\n",
       "n ↦ ⎜   ⎟\n",
       "    ⎝ n ⎠"
      ]
     },
     "execution_count": 3,
     "metadata": {},
     "output_type": "execute_result"
    }
   ],
   "source": [
    "central_binomial = Lambda([n], binomial(2*n, n))\n",
    "central_binomial"
   ]
  },
  {
   "cell_type": "markdown",
   "metadata": {},
   "source": [
    "#### Funzione generatrice:\n",
    "\n",
    "La funzione generatrice dei coefficienti binomiali centrali $\\binom{2n}{n}$ è:<br /><br />\n",
    "\n",
    "$$(1)\\ \\ \\ \\sum \\limits_{n=0}^{\\infty} \\binom{2n}{n} t^n = \\frac{1}{\\sqrt{1-4t}}$$ <br />\n",
    "\n",
    "Dimostrazione:<br /><br />\n",
    "\n",
    "$a_n=\\binom{2n}{n};\\ a_0=1,\\ a_1 = 2$ <br /><br />\n",
    "$$\n",
    "\\frac{a_{n+1}}{a_n}= \\binom{2(n+1)}{n+1}/\\binom{2n}{n} = \\frac{(2n+2)!}{(n+1)!(n+1)!} = \\frac{n!n!}{(2n)!} = \\frac{(2n+2)(2n+1)}{(n+1)(n+1)} = \\frac{2(2n+1)}{(n+1)}\n",
    "$$\n",
    "\n",
    "Quindi: $(n+1)a_{n+1} = 2(2n+1)a_n$ che è valida nelle condizioni iniziali. Passando alle funzioni generatrici:<br /><br />\n",
    "\n",
    "\\begin{equation}\n",
    "    G((n+1)a_{n+1}) = G(4na_n)+G(2a_n); dG(a_n)=4t dG(a_n)+2G(a_n)\n",
    "\\end{equation}\n",
    "\n",
    "chiamo $G(a_n)=a(t)$ e ottengo:\n",
    "\n",
    "$$\n",
    "    (1-4t)a'(t)=2a(t); \\frac{a'(t)}{a(t)} = \\frac{2}{1-4t}; \n",
    "$$\n",
    "Integrando da entrambe le parti si ottiene:\n",
    "\n",
    "$$\n",
    "    \\ln(a(t)) = -\\frac{1}{2}\\ln(1-4t)+k = \\ln\\left(\\frac{1}{\\sqrt{1-4t}}\\right)+k\n",
    "$$\n",
    "Per le condizioni iniziali $k=0$, quindi:\n",
    "$$\n",
    "    G(a_n)=\\frac{1}{\\sqrt{1-4t}}\n",
    "$$\n",
    "\n",
    "Verifichiamo adesso che la funzione ottenuta sia effettivamente la funzione generatrice dei coefficienti binomiali centrali: per farlo calcoliamo i valori della serie a sinistra dell'equazione, e li confrontiamo con i coefficienti dello sviluppo di Taylor della funzione a destra; se risultano tutti uguali, abbiamo effettivamente ottenuto la funzione generatrice della serie. Ovviamente per motivi computazionali, ci dobbiamo limitare al confronto di un numero finito di valori."
   ]
  },
  {
   "cell_type": "code",
   "execution_count": 4,
   "metadata": {
    "collapsed": false
   },
   "outputs": [
    {
     "data": {
      "text/plain": [
       "[(1.00000000000000, 1.0, True),\n",
       " (2.00000000000000, 2.0, True),\n",
       " (6.00000000000000, 6.0, True),\n",
       " (20.0000000000000, 20.0, True),\n",
       " (70.0000000000000, 70.0, True),\n",
       " (252.000000000000, 252.0, True),\n",
       " (924.000000000000, 924.0, True),\n",
       " (3432.00000000000, 3432.0, True),\n",
       " (12870.0000000000, 12870.0, True),\n",
       " (48620.0000000000, 48620.0, True)]"
      ]
     },
     "execution_count": 4,
     "metadata": {},
     "output_type": "execute_result"
    }
   ],
   "source": [
    "central_binomial_gen = Lambda([t], 1/(sqrt(1-4*t)))\n",
    "\n",
    "coeff = chop((taylor(central_binomial_gen, 0, 10)))\n",
    "\n",
    "[(central_binomial(i).evalf(), coeff[i], central_binomial(i).evalf() == coeff[i]) for i in range(0,10)]"
   ]
  },
  {
   "cell_type": "markdown",
   "metadata": {},
   "source": [
    "### Numeri di Catalan: \n",
    "\n",
    "Per $(n=0,1,\\dots)$, i numeri di Catalan sono dati dalla formula:<br />\n",
    "$$C_n = \\frac{1}{n+1}\\binom{2n}{n}$$\n",
    "<br /><br />"
   ]
  },
  {
   "cell_type": "code",
   "execution_count": 5,
   "metadata": {
    "collapsed": false
   },
   "outputs": [
    {
     "data": {
      "image/png": "[encoded data removed]",
      "text/latex": [
       "$$\\left( n \\mapsto \\frac{{\\binom{2 n}{n}}}{n + 1} \\right)$$"
      ],
      "text/plain": [
       "    ⎛2⋅n⎞\n",
       "    ⎜   ⎟\n",
       "    ⎝ n ⎠\n",
       "n ↦ ─────\n",
       "    n + 1"
      ]
     },
     "execution_count": 5,
     "metadata": {},
     "output_type": "execute_result"
    }
   ],
   "source": [
    "catalan_numbers = Lambda([n], (1/(n+1))*central_binomial(n))\n",
    "catalan_numbers"
   ]
  },
  {
   "cell_type": "markdown",
   "metadata": {
    "collapsed": true
   },
   "source": [
    "#### Funzione generatrice\n",
    "<br />\n",
    "La funzione generatrice dei numeri di Catalan è: <br /><br />\n",
    "$$\n",
    " (2)\\ \\ \\ \\sum\\limits_{n=0}^{\\infty}C_nt^n = \\frac{2}{1+\\sqrt{1-4t}} \n",
    "$$   \n",
    "\n",
    "Dimostrazione:<br /><br />\n",
    "$a_n=\\frac{1}{n+1}\\binom{2n}{n}$; $a_0 = 1,\\ a_1 = 1$\n",
    "$$\n",
    "    \\frac{a_{n+1}}{a_n}=\\frac{1}{n+2}\\binom{2(n+1)}{n+1}/\\frac{1}{n+1}\\binom{2n}{n}=\\frac{2(2n+1)}{n+1}\\cdot\\frac{n+1}{n+2} = \\frac{2(2n+1)}{n+1}\n",
    "$$\n",
    "<br /><br />\n",
    "Quindi $(n+2)a_{n+1} = 2(2n+1)a_n$ che vale nelle condizioni iniziali. Passiamo quindi alle funzioni generatrici:<br /><br />\n",
    "$$\n",
    "    G((n+2)a_{n+1}) = 4G(na_n)+2G(a_n); G((n+1)a_{n+1}) + G(a_{n+1}) = 4G(na_n)+2G(a_n); \n",
    "$$<br />\n",
    "chiamo $G(a_n)=a(t)$ e ottengo:<br /><br />\n",
    "$$\n",
    "    a'(t) + \\frac{a(t)-a_0}{t} = 4ta'(t)+2a(t);\\ ta'(t)+a(t)-1=4t^2a'(t)+2ta(t);\\ (t-4t^2)a'(t)+(1-2t)a(t)=1\n",
    "$$\n",
    "<br />\n",
    "Risolvendo l'equazione differenziale si trova che:<br /><br />\n",
    "$$\n",
    "    G\\left(\\frac{1}{n+1}\\binom{2n}{n}\\right) = \\frac{1-\\sqrt{1-4t}}{2t} = \\frac{1+\\sqrt{1-4t}}{1+\\sqrt{1-4t}} = \\frac{1+(1-4t)}{2t(1-\\sqrt{1-4t})} = \\frac{2}{1+\\sqrt{1-4t}}\n",
    "$$\n",
    "\n",
    "<br />\n",
    "<br />\n",
    "\n",
    "Dimostriamo adesso che il risultato ottenuto è effettivamente la funzione generatrice dei numeri di Catalan, utilizzando lo stesso procedimento di prima."
   ]
  },
  {
   "cell_type": "code",
   "execution_count": 6,
   "metadata": {
    "collapsed": false
   },
   "outputs": [
    {
     "data": {
      "text/plain": [
       "[(1.00000000000000, 1.0, True),\n",
       " (2.00000000000000, 2.0, True),\n",
       " (5.00000000000000, 5.0, True),\n",
       " (14.0000000000000, 14.0, True),\n",
       " (42.0000000000000, 42.0, True),\n",
       " (132.000000000000, 132.0, True),\n",
       " (429.000000000000, 429.0, True),\n",
       " (1430.00000000000, 1430.0, True),\n",
       " (4862.00000000000, 4862.0, True)]"
      ]
     },
     "execution_count": 6,
     "metadata": {},
     "output_type": "execute_result"
    }
   ],
   "source": [
    "catalan_numbers_gen = Lambda([t], (1-sqrt(1-4*t))/(2*t))\n",
    "\n",
    "coeff = chop((taylor(catalan_numbers_gen, 0, 10)))\n",
    "\n",
    "[(catalan_numbers(i).evalf(), coeff[i], catalan_numbers(i).evalf() == coeff[i]) for i in range(1,10)]"
   ]
  },
  {
   "cell_type": "markdown",
   "metadata": {},
   "source": [
    "### Numeri armonici\n",
    "Per $(n=1,2,\\dots)$, i numeri armonici sono dati da:<br />\n",
    "$$\n",
    "    H_n = 1 +\\frac{1}{2}+\\frac{1}{3}+\\frac{1}{4}+\\cdots+\\frac{1}{n} = \\sum\\limits_{k=0}^n\\frac{1}{k}\n",
    "$$"
   ]
  },
  {
   "cell_type": "code",
   "execution_count": 7,
   "metadata": {
    "collapsed": false
   },
   "outputs": [
    {
     "data": {
      "image/png": "[encoded data removed]",
      "text/latex": [
       "$$\\left( n \\mapsto \\sum_{k=1}^{n} \\frac{1}{k} \\right)$$"
      ],
      "text/plain": [
       "      n    \n",
       "     ____  \n",
       "     ╲     \n",
       "      ╲   1\n",
       "       ╲  ─\n",
       "n ↦    ╱  k\n",
       "      ╱    \n",
       "     ╱     \n",
       "     ‾‾‾‾  \n",
       "    k = 1  "
      ]
     },
     "execution_count": 7,
     "metadata": {},
     "output_type": "execute_result"
    }
   ],
   "source": [
    "harmonic_numbers = Lambda([n], Sum(1/k, (k, 1, n)))\n",
    "harmonic_numbers"
   ]
  },
  {
   "cell_type": "markdown",
   "metadata": {},
   "source": [
    "#### Funzione generatrice\n",
    "\n",
    "La funzione generatrice dei numeri armonici è\n",
    "$$\n",
    "  (3)\\ \\ \\ \\mathcal{G}(H_n) = \\frac{1}{1-t}\\log\\left(\\frac{1}{1-t}\\right)\n",
    "$$\n",
    "<br /><br />\n",
    "Dimostrazione:\n",
    "<br /><br />\n",
    "$$\n",
    "H_n = \\sum\\limits_{k=1}^{n}1\\cdot\\frac{1}{k}\n",
    "$$\n",
    "Definiamo quindi \n",
    "\\begin{equation}\n",
    "    c_k = \n",
    "   \\begin{cases}\n",
    "   0\\ \\ \\ \\mathrm{se}\\ k=0\\\\ \\frac{1}{k}\\ \\ \\mathrm{altrimenti}\n",
    "   \\end{cases}\n",
    "\\end{equation}\n",
    "<br /><br />\n",
    "Usiamo quindi convoluzione prendendo $a_k = c_k$ e $b_{n-k} = 1$ e otteniamo <br /><br />\n",
    "$$\n",
    "    \\mathcal{G}(H_n) = \\mathcal{G}(\\sum\\limits_{k=1}^{n}1\\cdot c_k) = \\mathcal{G}(c_n)\\cdot \\mathcal{G}(1) = \\log\\left(\\frac{1}{1-t}\\right)\\frac{1}{1-t}\n",
    "$$\n",
    "<br />\n",
    "\n",
    "Anche in questo caso verifichiamo il risultato ottenuto:"
   ]
  },
  {
   "cell_type": "code",
   "execution_count": 8,
   "metadata": {
    "collapsed": false
   },
   "outputs": [
    {
     "data": {
      "text/plain": [
       "[(0, 0.0, True),\n",
       " (1.00000000000000, 1.0, True),\n",
       " (1.50000000000000, 1.5, True),\n",
       " (1.83333333333333, 1.83333333333333, True),\n",
       " (2.08333333333333, 2.08333333333333, True),\n",
       " (2.28333333333333, 2.28333333333333, True),\n",
       " (2.45000000000000, 2.45, True),\n",
       " (2.59285714285714, 2.59285714285714, True),\n",
       " (2.71785714285714, 2.71785714285714, True),\n",
       " (2.82896825396825, 2.82896825396825, True)]"
      ]
     },
     "execution_count": 8,
     "metadata": {},
     "output_type": "execute_result"
    }
   ],
   "source": [
    "harmonic_numbers_gen = Lambda([t], (1/(1-t))*log(1/(1-t)))\n",
    "\n",
    "coeff = chop((taylor(harmonic_numbers_gen, 0, 10)))\n",
    "\n",
    "[(harmonic_numbers(i).evalf(), coeff[i], harmonic_numbers(i).evalf() == coeff[i]) for i in range(0,10)]"
   ]
  },
  {
   "cell_type": "markdown",
   "metadata": {},
   "source": [
    "## Serie con i coefficienti binomiali\n",
    "\n",
    "Presentiamo adesso alcune serie che si ottengono per derivazione da qella dei coefficienti binomiali.\n",
    "<br /><br />\n",
    "$$\n",
    "    (4)\\ \\ \\ \\sum\\limits_{n=0}^{\\infty}\\binom{2n}{n}nt^n = \\frac{2t}{(1-4t)\\sqrt{1-4t}}\n",
    "$$\n",
    "<br /><br />\n",
    "Questa serie si ottiene applicando la formula di derivazione che afferma che:<br /><br />\n",
    "$$\n",
    "    \\mathcal{G}(kf_k) = t\\cdot d\\mathcal{G}(f_k)\n",
    "$$\n",
    "<br />\n",
    "Infatti:"
   ]
  },
  {
   "cell_type": "code",
   "execution_count": 9,
   "metadata": {
    "collapsed": false
   },
   "outputs": [
    {
     "data": {
      "image/png": "[encoded data removed]",
      "text/latex": [
       "$$\\frac{2 t}{\\left(- 4 t + 1\\right)^{\\frac{3}{2}}}$$"
      ],
      "text/plain": [
       "     2⋅t     \n",
       "─────────────\n",
       "          3/2\n",
       "(-4⋅t + 1)   "
      ]
     },
     "execution_count": 9,
     "metadata": {},
     "output_type": "execute_result"
    }
   ],
   "source": [
    "cb_function = 1/(sqrt(1-4*t))\n",
    "cor2_1 = diff(cb_function)*t\n",
    "cor2_1"
   ]
  },
  {
   "cell_type": "markdown",
   "metadata": {},
   "source": [
    "$$\n",
    "    (5)\\ \\ \\ \\sum\\limits_{n=0}^{\\infty}\\binom{2n}{n}n^2t^n = \\frac{2t(2t+1)}{(1-4t)^2\\sqrt{1-4t}}\n",
    "$$\n",
    "<br /><br />\n",
    "Questa serie si ottiene applicando derivazione alla precedente, cioè:"
   ]
  },
  {
   "cell_type": "code",
   "execution_count": 10,
   "metadata": {
    "collapsed": false
   },
   "outputs": [
    {
     "data": {
      "image/png": "[encoded data removed]",
      "text/latex": [
       "$$\\frac{2 t \\left(2 t + 1\\right)}{\\left(- 4 t + 1\\right)^{\\frac{5}{2}}}$$"
      ],
      "text/plain": [
       "2⋅t⋅(2⋅t + 1)\n",
       "─────────────\n",
       "          5/2\n",
       "(-4⋅t + 1)   "
      ]
     },
     "execution_count": 10,
     "metadata": {},
     "output_type": "execute_result"
    }
   ],
   "source": [
    "cor2_2 = diff(cor2_1)*t\n",
    "simplify(cor2_2)"
   ]
  },
  {
   "cell_type": "markdown",
   "metadata": {},
   "source": [
    "L'espressione generale per le serie di questo tipo è la seguente:<br /><br />\n",
    "$$\n",
    "    (6)\\ \\ \\ \\sum\\limits_{n=0}^{\\infty}\\binom{2n}{n}n^mt^n = \\frac{1}{\\sqrt{1-4t}}\\sum\\limits_{k=0}^mS(m,k)\\binom{2k}{k}k!\\left(\\frac{t}{1-4t}\\right)^k\n",
    "$$\n",
    "<br />\n",
    "Dove $S(m,k)$ sono i numeri di Stirling di seconda specie. In questo caso ci limiteremo a verificare numericamente il risultato. Per prima cosa costruiamo la funzione di destra e calcoliamo il suo sviluppo di Taylor, per $m$ che varia tra 2 e 4:"
   ]
  },
  {
   "cell_type": "code",
   "execution_count": 42,
   "metadata": {
    "collapsed": false,
    "scrolled": true
   },
   "outputs": [
    {
     "data": {
      "image/png": "[encoded data removed]",
      "text/latex": [
       "$$\\left [ 2 t + 24 t^{2} + 180 t^{3} + 1120 t^{4} + 6300 t^{5} + 33264 t^{6} + 168168 t^{7} + 823680 t^{8} + 3938220 t^{9} + \\mathcal{O}\\left(t^{10}\\right), \\quad 2 t + 48 t^{2} + 540 t^{3} + 4480 t^{4} + 31500 t^{5} + 199584 t^{6} + 1177176 t^{7} + 6589440 t^{8} + 35443980 t^{9} + \\mathcal{O}\\left(t^{10}\\right), \\quad 2 t + 96 t^{2} + 1620 t^{3} + 17920 t^{4} + 157500 t^{5} + 1197504 t^{6} + 8240232 t^{7} + 52715520 t^{8} + 318995820 t^{9} + \\mathcal{O}\\left(t^{10}\\right)\\right ]$$"
      ],
      "text/plain": [
       "⎡          2        3         4         5          6           7           8  \n",
       "⎣2⋅t + 24⋅t  + 180⋅t  + 1120⋅t  + 6300⋅t  + 33264⋅t  + 168168⋅t  + 823680⋅t  +\n",
       "\n",
       "          9    ⎛ 10⎞            2        3         4          5           6   \n",
       " 3938220⋅t  + O⎝t  ⎠, 2⋅t + 48⋅t  + 540⋅t  + 4480⋅t  + 31500⋅t  + 199584⋅t  + \n",
       "\n",
       "         7            8             9    ⎛ 10⎞            2         3         \n",
       "1177176⋅t  + 6589440⋅t  + 35443980⋅t  + O⎝t  ⎠, 2⋅t + 96⋅t  + 1620⋅t  + 17920⋅\n",
       "\n",
       " 4           5            6            7             8              9    ⎛ 10⎞\n",
       "t  + 157500⋅t  + 1197504⋅t  + 8240232⋅t  + 52715520⋅t  + 318995820⋅t  + O⎝t  ⎠\n",
       "\n",
       "⎤\n",
       "⎦"
      ]
     },
     "execution_count": 42,
     "metadata": {},
     "output_type": "execute_result"
    }
   ],
   "source": [
    "S = IndexedBase('s')\n",
    "d = 21\n",
    "mapping = {S[i,j]:stirling(i,j) for i in range(d) for j in range(d)}\n",
    "rhs = (1/sqrt(1-4*t))*Sum(S[m,k]*binomial(2*k, k)*factorial(k)*((t/(1-4*t))**k), (k, 0, m))\n",
    "[rhs.subs({m:i}).doit().series(t, n=10).subs(mapping) for i in range(2, 5) ]"
   ]
  },
  {
   "cell_type": "markdown",
   "metadata": {},
   "source": [
    "Costruiamo adesso invece la serie e calcoliamo i suoi indici, sempre per $m$ che varia tra 2 e 4:"
   ]
  },
  {
   "cell_type": "code",
   "execution_count": 44,
   "metadata": {
    "collapsed": false,
    "scrolled": true
   },
   "outputs": [
    {
     "data": {
      "image/png": "[encoded data removed]",
      "text/latex": [
       "$$\\left [ \\left [ 2.0 t, \\quad 24.0 t^{2}, \\quad 180.0 t^{3}, \\quad 1120.0 t^{4}, \\quad 6300.0 t^{5}, \\quad 33264.0 t^{6}, \\quad 168168.0 t^{7}, \\quad 823680.0 t^{8}, \\quad 3938220.0 t^{9}\\right ], \\quad \\left [ 2.0 t, \\quad 48.0 t^{2}, \\quad 540.0 t^{3}, \\quad 4480.0 t^{4}, \\quad 31500.0 t^{5}, \\quad 199584.0 t^{6}, \\quad 1177176.0 t^{7}, \\quad 6589440.0 t^{8}, \\quad 35443980.0 t^{9}\\right ], \\quad \\left [ 2.0 t, \\quad 96.0 t^{2}, \\quad 1620.0 t^{3}, \\quad 17920.0 t^{4}, \\quad 157500.0 t^{5}, \\quad 1197504.0 t^{6}, \\quad 8240232.0 t^{7}, \\quad 52715520.0 t^{8}, \\quad 318995820.0 t^{9}\\right ]\\right ]$$"
      ],
      "text/plain": [
       "⎡⎡             2         3          4          5           6            7     \n",
       "⎣⎣2.0⋅t, 24.0⋅t , 180.0⋅t , 1120.0⋅t , 6300.0⋅t , 33264.0⋅t , 168168.0⋅t , 823\n",
       "\n",
       "       8             9⎤  ⎡             2         3          4           5     \n",
       "680.0⋅t , 3938220.0⋅t ⎦, ⎣2.0⋅t, 48.0⋅t , 540.0⋅t , 4480.0⋅t , 31500.0⋅t , 199\n",
       "\n",
       "       6             7             8              9⎤  ⎡             2         \n",
       "584.0⋅t , 1177176.0⋅t , 6589440.0⋅t , 35443980.0⋅t ⎦, ⎣2.0⋅t, 96.0⋅t , 1620.0⋅\n",
       "\n",
       " 3           4            5             6             7              8        \n",
       "t , 17920.0⋅t , 157500.0⋅t , 1197504.0⋅t , 8240232.0⋅t , 52715520.0⋅t , 318995\n",
       "\n",
       "       9⎤⎤\n",
       "820.0⋅t ⎦⎦"
      ]
     },
     "execution_count": 44,
     "metadata": {},
     "output_type": "execute_result"
    }
   ],
   "source": [
    "f_3 = Lambda([m, n], binomial(2*n, n)*(n**m)*(t**n))\n",
    "[[f_3(i, n).evalf() for n in range(1, 10)] for i in range(2, 5)]"
   ]
  },
  {
   "cell_type": "markdown",
   "metadata": {},
   "source": [
    "Osservando i risultati ottenuti si può concludere che, almeno per gli $m$ considerati, la funzione ottenuta è effettivamente la funzione generatrice della serie. È però anche interessante osservare come i coefficienti dipendano dai numeri di Stirling:"
   ]
  },
  {
   "cell_type": "code",
   "execution_count": 37,
   "metadata": {
    "collapsed": false
   },
   "outputs": [
    {
     "data": {
      "image/png": "[encoded data removed]",
      "text/latex": [
       "$$\\left [ s_{2,0} + t \\left(2 s_{2,0} + 2 s_{2,1}\\right) + t^{2} \\left(6 s_{2,0} + 12 s_{2,1} + 12 s_{2,2}\\right) + t^{3} \\left(20 s_{2,0} + 60 s_{2,1} + 120 s_{2,2}\\right) + t^{4} \\left(70 s_{2,0} + 280 s_{2,1} + 840 s_{2,2}\\right) + t^{5} \\left(252 s_{2,0} + 1260 s_{2,1} + 5040 s_{2,2}\\right) + t^{6} \\left(924 s_{2,0} + 5544 s_{2,1} + 27720 s_{2,2}\\right) + t^{7} \\left(3432 s_{2,0} + 24024 s_{2,1} + 144144 s_{2,2}\\right) + t^{8} \\left(12870 s_{2,0} + 102960 s_{2,1} + 720720 s_{2,2}\\right) + t^{9} \\left(48620 s_{2,0} + 437580 s_{2,1} + 3500640 s_{2,2}\\right) + \\mathcal{O}\\left(t^{10}\\right)\\right ]$$"
      ],
      "text/plain": [
       "⎡                                       2                                     \n",
       "⎣s[2, 0] + t⋅(2⋅s[2, 0] + 2⋅s[2, 1]) + t ⋅(6⋅s[2, 0] + 12⋅s[2, 1] + 12⋅s[2, 2]\n",
       "\n",
       "     3                                            4                           \n",
       ") + t ⋅(20⋅s[2, 0] + 60⋅s[2, 1] + 120⋅s[2, 2]) + t ⋅(70⋅s[2, 0] + 280⋅s[2, 1] \n",
       "\n",
       "                  5                                                6          \n",
       "+ 840⋅s[2, 2]) + t ⋅(252⋅s[2, 0] + 1260⋅s[2, 1] + 5040⋅s[2, 2]) + t ⋅(924⋅s[2,\n",
       "\n",
       "                                       7                                      \n",
       " 0] + 5544⋅s[2, 1] + 27720⋅s[2, 2]) + t ⋅(3432⋅s[2, 0] + 24024⋅s[2, 1] + 14414\n",
       "\n",
       "              8                                                      9        \n",
       "4⋅s[2, 2]) + t ⋅(12870⋅s[2, 0] + 102960⋅s[2, 1] + 720720⋅s[2, 2]) + t ⋅(48620⋅\n",
       "\n",
       "                                               ⎛ 10⎞⎤\n",
       "s[2, 0] + 437580⋅s[2, 1] + 3500640⋅s[2, 2]) + O⎝t  ⎠⎦"
      ]
     },
     "execution_count": 37,
     "metadata": {},
     "output_type": "execute_result"
    }
   ],
   "source": [
    "[rhs.subs({m:i}).doit().series(t, n=10) for i in [2] ]"
   ]
  },
  {
   "cell_type": "code",
   "execution_count": 45,
   "metadata": {
    "collapsed": false
   },
   "outputs": [
    {
     "data": {
      "image/png": "[encoded data removed]",
      "text/latex": [
       "$$\\left [ s_{3,0} + t \\left(2 s_{3,0} + 2 s_{3,1}\\right) + t^{2} \\left(6 s_{3,0} + 12 s_{3,1} + 12 s_{3,2}\\right) + t^{3} \\left(20 s_{3,0} + 60 s_{3,1} + 120 s_{3,2} + 120 s_{3,3}\\right) + t^{4} \\left(70 s_{3,0} + 280 s_{3,1} + 840 s_{3,2} + 1680 s_{3,3}\\right) + t^{5} \\left(252 s_{3,0} + 1260 s_{3,1} + 5040 s_{3,2} + 15120 s_{3,3}\\right) + t^{6} \\left(924 s_{3,0} + 5544 s_{3,1} + 27720 s_{3,2} + 110880 s_{3,3}\\right) + t^{7} \\left(3432 s_{3,0} + 24024 s_{3,1} + 144144 s_{3,2} + 720720 s_{3,3}\\right) + t^{8} \\left(12870 s_{3,0} + 102960 s_{3,1} + 720720 s_{3,2} + 4324320 s_{3,3}\\right) + t^{9} \\left(48620 s_{3,0} + 437580 s_{3,1} + 3500640 s_{3,2} + 24504480 s_{3,3}\\right) + \\mathcal{O}\\left(t^{10}\\right)\\right ]$$"
      ],
      "text/plain": [
       "⎡                                       2                                     \n",
       "⎣s[3, 0] + t⋅(2⋅s[3, 0] + 2⋅s[3, 1]) + t ⋅(6⋅s[3, 0] + 12⋅s[3, 1] + 12⋅s[3, 2]\n",
       "\n",
       "     3                                                          4             \n",
       ") + t ⋅(20⋅s[3, 0] + 60⋅s[3, 1] + 120⋅s[3, 2] + 120⋅s[3, 3]) + t ⋅(70⋅s[3, 0] \n",
       "\n",
       "                                               5                              \n",
       "+ 280⋅s[3, 1] + 840⋅s[3, 2] + 1680⋅s[3, 3]) + t ⋅(252⋅s[3, 0] + 1260⋅s[3, 1] +\n",
       "\n",
       "                                  6                                           \n",
       " 5040⋅s[3, 2] + 15120⋅s[3, 3]) + t ⋅(924⋅s[3, 0] + 5544⋅s[3, 1] + 27720⋅s[3, 2\n",
       "\n",
       "                       7                                                      \n",
       "] + 110880⋅s[3, 3]) + t ⋅(3432⋅s[3, 0] + 24024⋅s[3, 1] + 144144⋅s[3, 2] + 7207\n",
       "\n",
       "               8                                                              \n",
       "20⋅s[3, 3]) + t ⋅(12870⋅s[3, 0] + 102960⋅s[3, 1] + 720720⋅s[3, 2] + 4324320⋅s[\n",
       "\n",
       "          9                                                                   \n",
       "3, 3]) + t ⋅(48620⋅s[3, 0] + 437580⋅s[3, 1] + 3500640⋅s[3, 2] + 24504480⋅s[3, \n",
       "\n",
       "       ⎛ 10⎞⎤\n",
       "3]) + O⎝t  ⎠⎦"
      ]
     },
     "execution_count": 45,
     "metadata": {},
     "output_type": "execute_result"
    }
   ],
   "source": [
    "[rhs.subs({m:i}).doit().series(t, n=10) for i in [3] ]"
   ]
  },
  {
   "cell_type": "markdown",
   "metadata": {},
   "source": [
    "Si nota infatti che tutti i coefficienti dell'espressione di grato $m$ dipendono solamente dai numeri di Stirling contenuti nell'emmesima riga della matrice di Stirling."
   ]
  },
  {
   "cell_type": "markdown",
   "metadata": {},
   "source": [
    "## Serie con numeri di Catalan\n",
    "\n",
    "Mostriamo adesso alcune serie che si ottengono da quella dei numeri di Catalan applicando la proprietà di integrazione delle funzioni generatrici.\n",
    "\n",
    "$$\n",
    "    (7)\\ \\ \\ \\sum\\limits_{n=0}^{\\infty}\\frac{1}{(n+1)^2}\\binom{2n}{n}t^{n+1} = t+\\frac{1}{4}(1+\\sqrt{1-4t})^2-\\frac{3}{2}(1+\\sqrt{1-4t})+\\log(1+\\sqrt{1-4t})+2-\\log2\n",
    "$$\n",
    "\n",
    "Infatti la funzione (2), generatrice dei numeri di Catalan, e calcolando la costante a partire dalle condizioni iniziali, si ottiene il seguente risultato: "
   ]
  },
  {
   "cell_type": "code",
   "execution_count": 15,
   "metadata": {
    "collapsed": false
   },
   "outputs": [
    {
     "data": {
      "image/png": "[encoded data removed]",
      "text/latex": [
       "$$- \\sqrt{- 4 t + 1} + \\log{\\left (\\sqrt{- 4 t + 1} + 1 \\right )} - \\log{\\left (2 \\right )} + 1$$"
      ],
      "text/plain": [
       "    __________      ⎛  __________    ⎞             \n",
       "- ╲╱ -4⋅t + 1  + log⎝╲╱ -4⋅t + 1  + 1⎠ - log(2) + 1"
      ]
     },
     "execution_count": 15,
     "metadata": {},
     "output_type": "execute_result"
    }
   ],
   "source": [
    "fy_k1 = 2/(1+sqrt(1-4*t))\n",
    "f1 = fy_k1.integrate(t)+1-log(2)\n",
    "f1"
   ]
  },
  {
   "cell_type": "markdown",
   "metadata": {},
   "source": [
    "Mostriamo che i risultati sono uguali, in modo matematico:"
   ]
  },
  {
   "cell_type": "code",
   "execution_count": 16,
   "metadata": {
    "collapsed": false
   },
   "outputs": [
    {
     "data": {
      "image/png": "[encoded data removed]",
      "text/latex": [
       "$$0$$"
      ],
      "text/plain": [
       "0"
      ]
     },
     "execution_count": 16,
     "metadata": {},
     "output_type": "execute_result"
    }
   ],
   "source": [
    "f2 = t+(1/4)*(1+sqrt(1-4*t))**2-(3/2)*(1+sqrt(1-4*t))+log(1+sqrt(1-4*t))+2-log(2)\n",
    "simplify(f2).evalf() - f1.evalf()"
   ]
  },
  {
   "cell_type": "markdown",
   "metadata": {},
   "source": [
    "## Altre serie interessanti\n",
    "\n",
    "Mostriamo e verifichiamo alcune serie interessanti che coinvolgono i coefficienti binomiali centrali, i numeri di Catalan, e i numeri armonici\n",
    "\n",
    "$$\n",
    "   (8)\\ \\ \\ \\sum\\limits_{n=0}^{\\infty}\\binom{2n}{n}H_n(-1)^{n-1}t^n = \\frac{2}{\\sqrt{1+4t}}\\log\\frac{2\\sqrt{1+4t}}{1+\\sqrt{1+4t}}\n",
    "$$\n",
    "\n",
    "Veifichiamo che effettivamente questa uguaglianza sia vera calcolando la parte sinistra per alcuni valori di n, e confrontandola con i coefficienti del polinomio di Taylor di quella a sinistra."
   ]
  },
  {
   "cell_type": "code",
   "execution_count": 36,
   "metadata": {
    "collapsed": false
   },
   "outputs": [
    {
     "data": {
      "text/plain": [
       "[(0, 0.0, True),\n",
       " (2.00000000000000, 2.0, True),\n",
       " (-9.00000000000000, -9.0, True),\n",
       " (36.6666666666667, 36.6666666666667, True),\n",
       " (-145.833333333333, -145.833333333333, True),\n",
       " (575.400000000000, 575.4, True),\n",
       " (-2263.80000000000, -2263.8, True),\n",
       " (8898.68571428571, 8898.68571428571, True),\n",
       " (-34978.8214285714, -34978.8214285714, True),\n",
       " (137544.436507937, 137544.436507937, True)]"
      ]
     },
     "execution_count": 36,
     "metadata": {},
     "output_type": "execute_result"
    }
   ],
   "source": [
    "th1_s1 = Lambda([t], binomial(2*t, t)*harmonic(t)*(-1)**(t-1))\n",
    "\n",
    "th1_g1 = Lambda([t], 2/sqrt(1+4*t)*log((2*sqrt(1+4*t))/(1+sqrt(1+4*t))))\n",
    "\n",
    "coeff = chop((taylor(th1_g1, 0, 10)))\n",
    "\n",
    "[(th1_s1(i).evalf(maxn = 8), coeff[i], th1_s1(i).evalf() == coeff[i]) for i in range(0,10)]"
   ]
  },
  {
   "cell_type": "markdown",
   "metadata": {},
   "source": [
    "$$\n",
    "    (8)\\ \\ \\ \\sum\\limits_{n=0}^{\\infty}\\binom{2n}{n}H_nt^n = \\frac{2}{\\sqrt{1-4t}}\\log\\frac{1\\sqrt{1-4t}}{1+\\sqrt{1-4t}}\n",
    "$$\n",
    "<br />\n",
    "Anche in questo caso verifichiamo l'uguaglianza"
   ]
  },
  {
   "cell_type": "code",
   "execution_count": 18,
   "metadata": {
    "collapsed": false
   },
   "outputs": [
    {
     "data": {
      "text/plain": [
       "[(0, 0.0, True),\n",
       " (2.00000000000000, 2.0, True),\n",
       " (9.00000000000000, 9.0, True),\n",
       " (36.6666666666667, 36.6666666666667, True),\n",
       " (145.833333333333, 145.833333333333, True),\n",
       " (575.400000000000, 575.4, True),\n",
       " (2263.80000000000, 2263.8, True),\n",
       " (8898.68571428571, 8898.68571428571, True),\n",
       " (34978.8214285714, 34978.8214285714, True),\n",
       " (137544.436507937, 137544.436507937, True)]"
      ]
     },
     "execution_count": 18,
     "metadata": {},
     "output_type": "execute_result"
    }
   ],
   "source": [
    "th1_s2 = Lambda([t], binomial(2*t, t)*harmonic(t))\n",
    "\n",
    "th1_g2 = Lambda([t], 2/sqrt(1-4*t)*log((1+sqrt(1-4*t))/(2*sqrt(1-4*t))))\n",
    "\n",
    "coeff = chop((taylor(th1_g2, 0, 10)))\n",
    "\n",
    "[(th1_s2(i).evalf(), coeff[i], th1_s2(i).evalf() == coeff[i]) for i in range(0,10)]\n"
   ]
  },
  {
   "cell_type": "markdown",
   "metadata": {},
   "source": [
    "$$\n",
    "    (9)\\ \\ \\ \\sum\\limits^{\\infty}_{n=0}C_nH_nt^{n+1} = \\sqrt{1-4t}\\log(2\\sqrt{1-4t})-(1+\\sqrt{1-4t})\\log(1+\\sqrt{1-4t})+\\log2 \n",
    "$$\n",
    "\n",
    "Questa serie si ottiene dalla precedente applicando la seguente proprietà delle funzioni generatrici:\n",
    "$$\n",
    "\\mathcal{G}\\left( \\frac{1}{k+1}f_k \\right) = \\frac{1}{t}\\int_{0}^{t}\\mathcal{G}(f_k)\\ dz\n",
    "$$\n",
    "\n",
    "In questo caso\n",
    "$$\n",
    "    f_k = \\binom{2n}{n}H_n\n",
    "$$\n",
    "e\n",
    "$$\n",
    "    \\mathcal{G}(f_k) = \\frac{2}{\\sqrt{1-4t}}\\log\\frac{1+\\sqrt{1-4t}}{2\\sqrt{1-4t}}\n",
    "$$\n",
    "<br /><br />\n",
    "Procediamo quindi con l'integrazione di $\\mathcal{G}(f_k)$. Per prima cosa applichiamo la sostituzione $y = \\sqrt{1-4t}$ da cui si ha che $t = \\frac{1-y^2}{4}$ e $dx = - \\frac{1}{2}y dy$. Integrando si ottiene il seguente risultato (a meno di una costante $c$):"
   ]
  },
  {
   "cell_type": "code",
   "execution_count": 19,
   "metadata": {
    "collapsed": false
   },
   "outputs": [
    {
     "data": {
      "image/png": "[encoded data removed]",
      "text/latex": [
       "$$- y \\log{\\left (\\frac{y + 1}{2 y} \\right )} - \\log{\\left (y + 1 \\right )}$$"
      ],
      "text/plain": [
       "       ⎛y + 1⎞             \n",
       "- y⋅log⎜─────⎟ - log(y + 1)\n",
       "       ⎝ 2⋅y ⎠             "
      ]
     },
     "execution_count": 19,
     "metadata": {},
     "output_type": "execute_result"
    }
   ],
   "source": [
    "fy_k = -(log((1+y)/(2*y)))\n",
    "fy_k.integrate(y)"
   ]
  },
  {
   "cell_type": "markdown",
   "metadata": {},
   "source": [
    "A questo punto si applica la sostituzione $y = \\sqrt{1-4t}$ e si calcola la costante $c$ tramite le condizioni iniziali, cioè:\n",
    "<br /><br />\n",
    "$$\n",
    "    \\log(2)-(1+1)\\log(2) + c = 0 \\\\ c = \\log(2)\n",
    "$$\n",
    "<br />\n",
    "Applicando infine le proprietà dei logaritmi, si ottiene la funzione generatrice (9).\n",
    "Verifichiamo anche questa uguaglianza:"
   ]
  },
  {
   "cell_type": "code",
   "execution_count": 20,
   "metadata": {
    "collapsed": false
   },
   "outputs": [
    {
     "data": {
      "text/plain": [
       "[(0, 0.0, True),\n",
       " (1.00000000000000, 1.0, True),\n",
       " (3.00000000000000, 3.0, True),\n",
       " (9.16666666666667, 9.16666666666667, True),\n",
       " (29.1666666666667, 29.1666666666667, True),\n",
       " (95.9000000000000, 95.9, True),\n",
       " (323.400000000000, 323.4, True),\n",
       " (1112.33571428571, 1112.33571428571, True),\n",
       " (3886.53571428571, 3886.53571428571, True)]"
      ]
     },
     "execution_count": 20,
     "metadata": {},
     "output_type": "execute_result"
    }
   ],
   "source": [
    "th1_s3 = Lambda([t], catalan_numbers(t)*harmonic(t))\n",
    "\n",
    "th1_g3 = Lambda([t], sqrt(1-4*t)*log(2*sqrt(1-4*t))-(1+sqrt(1-4*t))*log(1+sqrt(1-4*t))+log(2))\n",
    "\n",
    "coeff = chop((taylor(th1_g3, 0, 10)))\n",
    "\n",
    "[(th1_s3(i).evalf(), coeff[i+1], th1_s3(i).evalf() == coeff[i+1]) for i in range(0,9)]\n"
   ]
  },
  {
   "cell_type": "markdown",
   "metadata": {},
   "source": [
    "Vogliamo adesso mostrare che:\n",
    "$$\n",
    "    (10)\\ \\ \\ \\sum\\limits^{\\infty}_{n=0}C_nH_{n+1}t^{n+1} = 1-t+\\sqrt{1-4t}\\left(\\log\\frac{2\\sqrt{1-4t}}{1+\\sqrt{1-4t}}-1\\right)\n",
    "$$"
   ]
  },
  {
   "cell_type": "markdown",
   "metadata": {},
   "source": [
    "Per prima cosa mostriamo un risultato intermedio, cioè:\n",
    "\n",
    "$$\n",
    "(11)\\ \\ \\ \\sum\\limits_{n=1}^{\\infty} \\binom{2n}{n}\\frac{1}{n}t^n = 2\\log\\left(\\frac{1-\\sqrt{1-4t}}{2t}\\right)\n",
    "$$\n",
    "\n",
    "Sappiamo infatti che:\n",
    "$$\n",
    "\\mathcal{G}\\left(\\frac{1}{k}f_k\\right) = \\int_0^t (\\mathcal{G}(f_k)-f_0)\\frac{dz}{z}\n",
    "$$\n",
    "e che:\n",
    "$$\n",
    "    \\mathcal{G}\\left(\\binom{2n}{n}\\right) = \\frac{1}{\\sqrt{1-4t}}\n",
    "$$\n",
    "Quindi:\n",
    "$$\n",
    "\\sum\\limits_{n=1}^{\\infty} \\binom{2n}{n}\\frac{1}{n}t^n = \\int^t_0 \\left(\\frac{1}{\\sqrt{1-4z}}-1\\right) \\frac{dz}{z}= 2\\log\\left(\\frac{1-\\sqrt{1-4t}}{2t}\\right)\n",
    "$$\n",
    "\n",
    "<br />\n",
    "Proviamo a ottenere lo stesso risultato utilizzando il calcolo simbolico. Integrando però tramite sympy si ottiene un'espressione diversa:"
   ]
  },
  {
   "cell_type": "code",
   "execution_count": 21,
   "metadata": {
    "collapsed": false
   },
   "outputs": [
    {
     "data": {
      "image/png": "[encoded data removed]",
      "text/latex": [
       "$$\\begin{cases} - \\log{\\left (t \\right )} - 2 \\operatorname{acosh}{\\left (\\frac{1}{2 \\sqrt{t}} \\right )} & \\text{for}\\: \\frac{\\left|{\\frac{1}{t}}\\right|}{4} > 1 \\\\- \\log{\\left (t \\right )} + 2 i \\operatorname{asin}{\\left (\\frac{1}{2 \\sqrt{t}} \\right )} & \\text{otherwise} \\end{cases}$$"
      ],
      "text/plain": [
       "⎧                              │1│    \n",
       "⎪                              │─│    \n",
       "⎪                 ⎛ 1  ⎞       │t│    \n",
       "⎪-log(t) - 2⋅acosh⎜────⎟   for ─── > 1\n",
       "⎨                 ⎝2⋅√t⎠        4     \n",
       "⎪                                     \n",
       "⎪                  ⎛ 1  ⎞             \n",
       "⎪-log(t) + 2⋅ⅈ⋅asin⎜────⎟   otherwise \n",
       "⎩                  ⎝2⋅√t⎠             "
      ]
     },
     "execution_count": 21,
     "metadata": {},
     "output_type": "execute_result"
    }
   ],
   "source": [
    "f_k = (1/(sqrt(1-4*t))-1)/t\n",
    "(integrate(f_k,(t))).simplify()\n"
   ]
  },
  {
   "cell_type": "markdown",
   "metadata": {},
   "source": [
    "Riusciamo però a dimostrare anche in questo caso che i risultati sono equivalenti, quando $t <\\frac{1}{4}$. Per prima cosa deriviamo l'espressione ottenuta per verificare se si ottiene nuovamente quella di partenza:"
   ]
  },
  {
   "cell_type": "code",
   "execution_count": 22,
   "metadata": {
    "collapsed": false
   },
   "outputs": [
    {
     "data": {
      "image/png": "[encoded data removed]",
      "text/latex": [
       "$$\\frac{1}{t} - \\frac{1}{2 t^{\\frac{3}{2}} \\sqrt{-1 + \\frac{1}{4 t}}}$$"
      ],
      "text/plain": [
       "1             1          \n",
       "─ - ─────────────────────\n",
       "t              __________\n",
       "       3/2    ╱       1  \n",
       "    2⋅t   ⋅  ╱  -1 + ─── \n",
       "           ╲╱        4⋅t "
      ]
     },
     "execution_count": 22,
     "metadata": {},
     "output_type": "execute_result"
    }
   ],
   "source": [
    "(log(t)+2*acosh(1/(2*sqrt(t)))).diff(t)"
   ]
  },
  {
   "cell_type": "markdown",
   "metadata": {},
   "source": [
    "Mostriamo quindi numericamente che l'espressione trovata è equivalente a quella che ci saremmo aspettati."
   ]
  },
  {
   "cell_type": "code",
   "execution_count": 24,
   "metadata": {
    "collapsed": false
   },
   "outputs": [
    {
     "data": {
      "image/png": "[encoded data removed]",
      "text/latex": [
       "$$\\left [ 0, \\quad 0, \\quad 0, \\quad 0, \\quad 0, \\quad 0, \\quad 0, \\quad 0, \\quad 0, \\quad 0, \\quad 0, \\quad 0, \\quad 0, \\quad 0, \\quad 0, \\quad 0, \\quad 0, \\quad 0, \\quad 0, \\quad 0, \\quad 0, \\quad 0, \\quad 0, \\quad 0, \\quad 0, \\quad 0, \\quad 0, \\quad 0, \\quad 0, \\quad 0, \\quad 0, \\quad 0, \\quad 0, \\quad 0, \\quad 0, \\quad 0, \\quad 0, \\quad 0, \\quad 0, \\quad 0, \\quad 0, \\quad 0, \\quad 0, \\quad 0, \\quad 0, \\quad 0, \\quad 0, \\quad 0, \\quad 0, \\quad 0, \\quad 0, \\quad 0, \\quad 0, \\quad 0, \\quad 0, \\quad 0, \\quad 0, \\quad 0, \\quad 0, \\quad 0, \\quad 0, \\quad 0, \\quad 0, \\quad 0, \\quad 0, \\quad 0, \\quad 0, \\quad 0, \\quad 0, \\quad 0, \\quad 0, \\quad 0, \\quad 0, \\quad 0, \\quad 0, \\quad 0, \\quad 0, \\quad 0, \\quad 0, \\quad 0, \\quad 0, \\quad 0, \\quad 0, \\quad 0, \\quad 0, \\quad 0, \\quad 0, \\quad 0, \\quad 0, \\quad 0, \\quad 0, \\quad 0, \\quad 0, \\quad 0, \\quad 0, \\quad 0, \\quad 0, \\quad 0, \\quad 0\\right ]$$"
      ],
      "text/plain": [
       "[0, 0, 0, 0, 0, 0, 0, 0, 0, 0, 0, 0, 0, 0, 0, 0, 0, 0, 0, 0, 0, 0, 0, 0, 0, 0,\n",
       " 0, 0, 0, 0, 0, 0, 0, 0, 0, 0, 0, 0, 0, 0, 0, 0, 0, 0, 0, 0, 0, 0, 0, 0, 0, 0,\n",
       " 0, 0, 0, 0, 0, 0, 0, 0, 0, 0, 0, 0, 0, 0, 0, 0, 0, 0, 0, 0, 0, 0, 0, 0, 0, 0,\n",
       " 0, 0, 0, 0, 0, 0, 0, 0, 0, 0, 0, 0, 0, 0, 0, 0, 0, 0, 0, 0, 0]"
      ]
     },
     "execution_count": 24,
     "metadata": {},
     "output_type": "execute_result"
    }
   ],
   "source": [
    "int1 = Lambda(t, -log(t)-2*acosh(1/(2*sqrt(t))))\n",
    "int2 = Lambda(t, 2*log((1-sqrt(1-4*t))/(2*t)))\n",
    "[(int1(t).doit() - int2(t).doit()).doit().evalf(chop = True) for t in range(1, 100)]"
   ]
  },
  {
   "cell_type": "markdown",
   "metadata": {},
   "source": [
    "Sottraendogli adesso la funzione generatrice dei numeri di Catalan (2) a partire da 1 si ottiene:\n",
    "<br /><br />\n",
    "$$\n",
    "\\sum _{n=1}^{\\infty }\\binom{2n}{n}\\frac{t^{n} }{n(n +1)}   =1-\\frac{2}{1+\\sqrt{1-4t} } +\\; 2\\, \\log \\frac{2}{1+\\sqrt{1-4t} }.  \n",
    "$$"
   ]
  },
  {
   "cell_type": "code",
   "execution_count": 25,
   "metadata": {
    "collapsed": false
   },
   "outputs": [
    {
     "data": {
      "image/png": "[encoded data removed]",
      "text/latex": [
       "$$2 \\log{\\left (\\frac{2}{\\sqrt{- 4 t + 1} + 1} \\right )} + 1 - \\frac{2}{\\sqrt{- 4 t + 1} + 1}$$"
      ],
      "text/plain": [
       "     ⎛       2        ⎞              2        \n",
       "2⋅log⎜────────────────⎟ + 1 - ────────────────\n",
       "     ⎜  __________    ⎟         __________    \n",
       "     ⎝╲╱ -4⋅t + 1  + 1⎠       ╲╱ -4⋅t + 1  + 1"
      ]
     },
     "execution_count": 25,
     "metadata": {},
     "output_type": "execute_result"
    }
   ],
   "source": [
    "f1 = 2/(1+sqrt(1-4*t))-1\n",
    "f2 = 2*log(2/(1+sqrt(1-4*t)))\n",
    "f2 - f1"
   ]
  },
  {
   "cell_type": "markdown",
   "metadata": {
    "collapsed": true
   },
   "source": [
    "Quindi, dato che:\n",
    "\n",
    "\\begin{equation*} \n",
    "H_{n+1} =H_{n} +\\frac{1}{n+1} ,\\;\\; \\frac{H_{n+1} }{n+1} =\\frac{H_{n} }{n+1} +\\frac{1}{(n+1)^{2} } ,        \n",
    "\\end{equation*} \n",
    "\n",
    "possiamo scrivere che:\n",
    "\n",
    "\\begin{equation*} \n",
    "\\sum _{n=1}^{\\infty }\\binom{2n}{n}\\frac{H_{n+1} }{n +1}   t^{n+1} =\\sum _{n=1}^{\\infty }\\binom{2n}{n}\\frac{H_{n} }{n +1} \\,   t^{n+1} +\\; \\sum _{n=1}^{\\infty }\\binom{2n}{n}\\frac{1}{(n +1)^{2} } \\,   t^{n+1}  \n",
    "\\end{equation*}\n",
    "\n",
    "sommando e semplificando le forule (10) ed (7) si ottiene quindi:\n",
    "\n",
    "\\begin{equation*}\n",
    "\\sum _{n=1}^{\\infty }\\binom{2n}{n}\\frac{H_{n+1} }{n+1}  \\, t^{n+1}  =1-t+\\sqrt{1-4t} \\left(\\log \\frac{2\\sqrt{1-4t} }{1+\\sqrt{1-4t} } \\; -1\\right)  ,     \n",
    "\\end{equation*}\n",
    "\n"
   ]
  },
  {
   "cell_type": "code",
   "execution_count": 26,
   "metadata": {
    "collapsed": false
   },
   "outputs": [
    {
     "data": {
      "image/png": "[encoded data removed]",
      "text/latex": [
       "$$\\left( t \\mapsto \\sqrt{- 4 t + 1} \\log{\\left (2 \\sqrt{- 4 t + 1} \\right )} - \\left(\\sqrt{- 4 t + 1} + 1\\right) \\log{\\left (\\sqrt{- 4 t + 1} + 1 \\right )} + \\log{\\left (2 \\right )} \\right)$$"
      ],
      "text/plain": [
       "      __________    ⎛    __________⎞   ⎛  __________    ⎞    ⎛  __________    \n",
       "t ↦ ╲╱ -4⋅t + 1 ⋅log⎝2⋅╲╱ -4⋅t + 1 ⎠ - ⎝╲╱ -4⋅t + 1  + 1⎠⋅log⎝╲╱ -4⋅t + 1  + 1\n",
       "\n",
       "⎞         \n",
       "⎠ + log(2)"
      ]
     },
     "execution_count": 26,
     "metadata": {},
     "output_type": "execute_result"
    }
   ],
   "source": [
    "f1 = Lambda(t, sqrt(1-4*t)*log(2*sqrt(1-4*t))-(1+sqrt(1-4*t))*log(1+sqrt(1-4*t))+log(2))\n",
    "f2 = Lambda(t, 1/4*((1+sqrt(1-4*t))**2)-3/2*(1+sqrt(1-4*t))+log(1+sqrt(1-4*t))+2-log(2))\n",
    "a = f1+f2\n",
    "f3 = Lambda(t, 1-t+sqrt(1-4*t)*(log((2*sqrt(1-4*t))/(1+sqrt(1-4*t)))-1))\n",
    "[(f1(i).evalf()+f2(i).evalf()-f3(i).evalf()).doit().evalf(chop = True) for i in range(0, 10)]\n",
    "simplify(f1)"
   ]
  },
  {
   "cell_type": "markdown",
   "metadata": {},
   "source": [
    "che, aggiungendo $t$ da entrambi i lati, e facendo partire la sommatoria da 0, diventa:\n",
    "\n",
    "\\begin{equation*}  \n",
    "\\sum _{n=0}^{\\infty }\\binom{2n}{n}\\frac{H_{n+1} }{n+1}  \\, t^{n+1}  =1+\\sqrt{1-4t} \\left(\\log \\frac{2\\sqrt{1-4t} }{1+\\sqrt{  1-4t} }  \\; -1\\right) .     \n",
    "\\end{equation*} "
   ]
  }
 ],
 "metadata": {
  "kernelspec": {
   "display_name": "Python 3",
   "language": "python",
   "name": "python3"
  },
  "language_info": {
   "codemirror_mode": {
    "name": "ipython",
    "version": 3
   },
   "file_extension": ".py",
   "mimetype": "text/x-python",
   "name": "python",
   "nbconvert_exporter": "python",
   "pygments_lexer": "ipython3",
   "version": "3.6.0"
  }
 },
 "nbformat": 4,
 "nbformat_minor": 2
}
